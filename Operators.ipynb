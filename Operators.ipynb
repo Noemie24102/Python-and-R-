{
 "cells": [
  {
   "cell_type": "code",
   "execution_count": 26,
   "id": "e5adea4c",
   "metadata": {},
   "outputs": [
    {
     "name": "stdout",
     "output_type": "stream",
     "text": [
      "78.5\n"
     ]
    }
   ],
   "source": [
    "pi = 3.14\n",
    "radius = 5\n",
    "area = pi * (radius)**2\n",
    "print(area)"
   ]
  },
  {
   "cell_type": "code",
   "execution_count": 27,
   "id": "bf6b1235",
   "metadata": {},
   "outputs": [
    {
     "name": "stdout",
     "output_type": "stream",
     "text": [
      "17 is odd.\n"
     ]
    }
   ],
   "source": [
    "x = 17\n",
    "if x % 2 == 0:\n",
    "    print(\"17 is even.\")\n",
    "elif x % 2 > 0:\n",
    "    print(\"17 is odd.\")"
   ]
  },
  {
   "cell_type": "code",
   "execution_count": 28,
   "id": "d79395ab",
   "metadata": {},
   "outputs": [
    {
     "name": "stdout",
     "output_type": "stream",
     "text": [
      "15\n"
     ]
    }
   ],
   "source": [
    "x = 5\n",
    "x += 10\n",
    "print(x)"
   ]
  },
  {
   "cell_type": "code",
   "execution_count": 29,
   "id": "4fba8022",
   "metadata": {},
   "outputs": [
    {
     "name": "stdout",
     "output_type": "stream",
     "text": [
      "1 is less than or equal  2\n"
     ]
    }
   ],
   "source": [
    "x = 1\n",
    "y = 2\n",
    "if x > y:\n",
    "    print(x, \"is greater than \", y)\n",
    "elif x <= y:\n",
    "    print(x, \"is less than or equal \", y)"
   ]
  },
  {
   "cell_type": "code",
   "execution_count": 48,
   "id": "ea703c25",
   "metadata": {},
   "outputs": [
    {
     "name": "stdout",
     "output_type": "stream",
     "text": [
      "Enter your age.20\n",
      "This person is not a teenager\n"
     ]
    }
   ],
   "source": [
    "age = int(input(\"Enter your age.\"))\n",
    "if age >= 13 and age <= 19:\n",
    "    print(\"This person is a teenager.\")\n",
    "elif age > 19:\n",
    "    print(\"This person is not a teenager\")"
   ]
  },
  {
   "cell_type": "code",
   "execution_count": 33,
   "id": "f5d61cd2",
   "metadata": {},
   "outputs": [
    {
     "name": "stdout",
     "output_type": "stream",
     "text": [
      "Valid input: y or n\n"
     ]
    }
   ],
   "source": [
    "char = 'y'\n",
    "if char == 'y' or char == 'n':\n",
    "    print(\"Valid input: y or n\")\n",
    "else:\n",
    "    print(\"Invalid input\")"
   ]
  },
  {
   "cell_type": "code",
   "execution_count": 34,
   "id": "d561e9fe",
   "metadata": {},
   "outputs": [
    {
     "name": "stdout",
     "output_type": "stream",
     "text": [
      "False\n"
     ]
    }
   ],
   "source": [
    "is_logged_in = True\n",
    "is_logged_in = not is_logged_in\n",
    "print(is_logged_in)"
   ]
  },
  {
   "cell_type": "code",
   "execution_count": 35,
   "id": "16b8ca66",
   "metadata": {},
   "outputs": [
    {
     "name": "stdout",
     "output_type": "stream",
     "text": [
      "True\n"
     ]
    }
   ],
   "source": [
    "list_a = [1, 2, 3]\n",
    "list_b = [1, 2, 3]   \n",
    "print(list1 is list2)  "
   ]
  },
  {
   "cell_type": "code",
   "execution_count": 36,
   "id": "022b0a34",
   "metadata": {},
   "outputs": [
    {
     "name": "stdout",
     "output_type": "stream",
     "text": [
      "5 is in the list.\n"
     ]
    }
   ],
   "source": [
    "list = [1, 2, 3, 4, 5]\n",
    "if 5 in list:\n",
    "    print(\"5 is in the list.\")"
   ]
  },
  {
   "cell_type": "code",
   "execution_count": 37,
   "id": "caa9c7fb",
   "metadata": {},
   "outputs": [
    {
     "name": "stdout",
     "output_type": "stream",
     "text": [
      "The variable is None\n"
     ]
    }
   ],
   "source": [
    "var = None\n",
    "\n",
    "if var is None:\n",
    "    print(\"The variable is None\")\n",
    "else:\n",
    "    print(\"The variable is not None\")"
   ]
  }
 ],
 "metadata": {
  "kernelspec": {
   "display_name": "Python 3 (ipykernel)",
   "language": "python",
   "name": "python3"
  },
  "language_info": {
   "codemirror_mode": {
    "name": "ipython",
    "version": 3
   },
   "file_extension": ".py",
   "mimetype": "text/x-python",
   "name": "python",
   "nbconvert_exporter": "python",
   "pygments_lexer": "ipython3",
   "version": "3.11.5"
  }
 },
 "nbformat": 4,
 "nbformat_minor": 5
}
