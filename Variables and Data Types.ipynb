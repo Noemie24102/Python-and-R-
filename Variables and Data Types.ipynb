{
 "cells": [
  {
   "cell_type": "code",
   "execution_count": 4,
   "id": "d665c330",
   "metadata": {},
   "outputs": [
    {
     "name": "stdout",
     "output_type": "stream",
     "text": [
      "TOURE\n"
     ]
    }
   ],
   "source": [
    "name = \"TOURE\"\n",
    "print(name)"
   ]
  },
  {
   "cell_type": "code",
   "execution_count": 1,
   "id": "46ef212d",
   "metadata": {},
   "outputs": [
    {
     "name": "stdout",
     "output_type": "stream",
     "text": [
      "22\n"
     ]
    }
   ],
   "source": [
    "num1 = 20\n",
    "num2 = 2 \n",
    "sum = num1 + num2\n",
    "print(sum)"
   ]
  },
  {
   "cell_type": "code",
   "execution_count": 2,
   "id": "c8952f88",
   "metadata": {},
   "outputs": [
    {
     "name": "stdout",
     "output_type": "stream",
     "text": [
      "<class 'bool'>\n"
     ]
    }
   ],
   "source": [
    "is_raining = True\n",
    "print(type(is_raining))"
   ]
  },
  {
   "cell_type": "code",
   "execution_count": 3,
   "id": "ca4e0abd",
   "metadata": {},
   "outputs": [
    {
     "name": "stdout",
     "output_type": "stream",
     "text": [
      "Enter your favorite number.2\n"
     ]
    }
   ],
   "source": [
    "number = int(input(\"Enter your favorite number.\"))"
   ]
  },
  {
   "cell_type": "code",
   "execution_count": 4,
   "id": "a076fcde",
   "metadata": {},
   "outputs": [
    {
     "name": "stdout",
     "output_type": "stream",
     "text": [
      "2\n"
     ]
    }
   ],
   "source": [
    "print(number)"
   ]
  },
  {
   "cell_type": "code",
   "execution_count": 5,
   "id": "bd6c13bb",
   "metadata": {},
   "outputs": [
    {
     "name": "stdout",
     "output_type": "stream",
     "text": [
      "100\n",
      "<class 'int'>\n"
     ]
    }
   ],
   "source": [
    "string = \"100\"\n",
    "integer = int(string)\n",
    "print(integer)\n",
    "print(type(integer))"
   ]
  },
  {
   "cell_type": "code",
   "execution_count": 6,
   "id": "53f43ceb",
   "metadata": {},
   "outputs": [
    {
     "name": "stdout",
     "output_type": "stream",
     "text": [
      "9\n"
     ]
    }
   ],
   "source": [
    "price = 9.99\n",
    "integer = int(price)\n",
    "print(integer)"
   ]
  },
  {
   "cell_type": "code",
   "execution_count": 7,
   "id": "657be7a5",
   "metadata": {},
   "outputs": [],
   "source": [
    "#The decimal part disappears."
   ]
  },
  {
   "cell_type": "code",
   "execution_count": 9,
   "id": "087e1bc9",
   "metadata": {},
   "outputs": [],
   "source": [
    "multi_line_string = \"\"\"Data Science is the field that makes use of programming, maths, computer science, scientific methods to find \n",
    "pattern, insight, knowledge from data to help decision-makers.\n",
    "Python is an interpreted programming language.\"\"\""
   ]
  },
  {
   "cell_type": "code",
   "execution_count": 14,
   "id": "5fd257d7",
   "metadata": {},
   "outputs": [
    {
     "name": "stdout",
     "output_type": "stream",
     "text": [
      "Hello Hello Hello Hello Hello \n"
     ]
    }
   ],
   "source": [
    "word = \"Hello \" \n",
    "string_multiplication = word * 5\n",
    "print(string_multiplication )\n"
   ]
  },
  {
   "cell_type": "code",
   "execution_count": 15,
   "id": "49a15dbf",
   "metadata": {},
   "outputs": [
    {
     "name": "stdout",
     "output_type": "stream",
     "text": [
      "My score is 95\n"
     ]
    }
   ],
   "source": [
    "string1 = \"My score is \"\n",
    "number = 95\n",
    "string2 = str(number)\n",
    "message = string1 + string2\n",
    "print (message)"
   ]
  },
  {
   "cell_type": "code",
   "execution_count": 16,
   "id": "4e9cdf6a",
   "metadata": {},
   "outputs": [
    {
     "name": "stdout",
     "output_type": "stream",
     "text": [
      "The word 'apple' is in the string\n"
     ]
    }
   ],
   "source": [
    "string = \"I have an apple and a banana\"\n",
    "if \"apple\" in string:\n",
    "    print(\"The word 'apple' is in the string\")"
   ]
  },
  {
   "cell_type": "code",
   "execution_count": null,
   "id": "543c65fc",
   "metadata": {},
   "outputs": [],
   "source": []
  }
 ],
 "metadata": {
  "kernelspec": {
   "display_name": "Python 3 (ipykernel)",
   "language": "python",
   "name": "python3"
  },
  "language_info": {
   "codemirror_mode": {
    "name": "ipython",
    "version": 3
   },
   "file_extension": ".py",
   "mimetype": "text/x-python",
   "name": "python",
   "nbconvert_exporter": "python",
   "pygments_lexer": "ipython3",
   "version": "3.11.5"
  }
 },
 "nbformat": 4,
 "nbformat_minor": 5
}
