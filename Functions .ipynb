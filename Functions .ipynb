{
 "cells": [
  {
   "cell_type": "code",
   "execution_count": 7,
   "id": "d32059aa",
   "metadata": {},
   "outputs": [],
   "source": [
    "def greet():\n",
    "    return(\"Hello, there!\")"
   ]
  },
  {
   "cell_type": "code",
   "execution_count": 9,
   "id": "471717fb",
   "metadata": {},
   "outputs": [
    {
     "data": {
      "text/plain": [
       "'Hello, there!'"
      ]
     },
     "execution_count": 9,
     "metadata": {},
     "output_type": "execute_result"
    }
   ],
   "source": [
    "greet()"
   ]
  },
  {
   "cell_type": "code",
   "execution_count": 17,
   "id": "c514c419",
   "metadata": {},
   "outputs": [],
   "source": [
    "def multiply(a,b):\n",
    "    mul = a*b\n",
    "    return (mul)"
   ]
  },
  {
   "cell_type": "code",
   "execution_count": 18,
   "id": "77c439c9",
   "metadata": {},
   "outputs": [
    {
     "data": {
      "text/plain": [
       "20"
      ]
     },
     "execution_count": 18,
     "metadata": {},
     "output_type": "execute_result"
    }
   ],
   "source": [
    "multiply(4,5)"
   ]
  },
  {
   "cell_type": "code",
   "execution_count": 42,
   "id": "2476ce01",
   "metadata": {},
   "outputs": [],
   "source": [
    "def describe_pet(pet_name, animal_type = \"dog\"):\n",
    "\n",
    "    print(\"I have a\", {animal_type}, \".\")\n",
    "    print(\"My\" ,{animal_type},\"'s name is\", {pet_name}, \".\")"
   ]
  },
  {
   "cell_type": "code",
   "execution_count": 46,
   "id": "fcfe4376",
   "metadata": {},
   "outputs": [
    {
     "name": "stdout",
     "output_type": "stream",
     "text": [
      "I have a {'dog'} .\n",
      "My {'dog'} 's name is {'Bluey'} .\n"
     ]
    }
   ],
   "source": [
    "describe_pet(\"Bluey\", animal_type = \"dog\")        "
   ]
  },
  {
   "cell_type": "code",
   "execution_count": 47,
   "id": "8a28bd4c",
   "metadata": {},
   "outputs": [],
   "source": [
    "def get_max(numbers):\n",
    "    if not numbers:   \n",
    "        return None\n",
    "    max_num = numbers[0]  \n",
    "    for num in numbers:\n",
    "        if num > max_num:\n",
    "            max_num = num\n",
    "    return max_num"
   ]
  },
  {
   "cell_type": "code",
   "execution_count": 50,
   "id": "b4eb2e2a",
   "metadata": {},
   "outputs": [
    {
     "data": {
      "text/plain": [
       "3"
      ]
     },
     "execution_count": 50,
     "metadata": {},
     "output_type": "execute_result"
    }
   ],
   "source": [
    "numbers =[0,1,2,3]\n",
    "get_max(numbers)"
   ]
  },
  {
   "cell_type": "code",
   "execution_count": 8,
   "id": "78935f4d",
   "metadata": {},
   "outputs": [],
   "source": [
    "def function():\n",
    "    Local = \"Hello!\"  \n",
    "    return(Local) "
   ]
  },
  {
   "cell_type": "code",
   "execution_count": 10,
   "id": "29fa6fc8",
   "metadata": {},
   "outputs": [
    {
     "data": {
      "text/plain": [
       "'Hello!'"
      ]
     },
     "execution_count": 10,
     "metadata": {},
     "output_type": "execute_result"
    }
   ],
   "source": [
    "function()"
   ]
  },
  {
   "cell_type": "code",
   "execution_count": 61,
   "id": "d0587010",
   "metadata": {},
   "outputs": [],
   "source": [
    "greeting = \"Hello, World!\"\n",
    "\n",
    "def print_greeting():\n",
    "    return(greeting)"
   ]
  },
  {
   "cell_type": "code",
   "execution_count": 62,
   "id": "6c13f03d",
   "metadata": {},
   "outputs": [
    {
     "data": {
      "text/plain": [
       "'Hello, World!'"
      ]
     },
     "execution_count": 62,
     "metadata": {},
     "output_type": "execute_result"
    }
   ],
   "source": [
    "print_greeting()"
   ]
  },
  {
   "cell_type": "code",
   "execution_count": 63,
   "id": "75d359b1",
   "metadata": {},
   "outputs": [],
   "source": [
    "def Lambda(x):\n",
    "    square = x**2\n",
    "    return(square)"
   ]
  },
  {
   "cell_type": "code",
   "execution_count": 64,
   "id": "514407cb",
   "metadata": {},
   "outputs": [
    {
     "data": {
      "text/plain": [
       "9"
      ]
     },
     "execution_count": 64,
     "metadata": {},
     "output_type": "execute_result"
    }
   ],
   "source": [
    "Lambda(3)"
   ]
  },
  {
   "cell_type": "code",
   "execution_count": 1,
   "id": "417492c5",
   "metadata": {},
   "outputs": [
    {
     "name": "stdout",
     "output_type": "stream",
     "text": [
      "Enter List Length: 6\n",
      "Enter number 1: 1\n",
      "Enter number 2: 2\n",
      "Enter number 3: 3\n",
      "Enter number 4: 4\n",
      "Enter number 5: 5\n",
      "Enter number 6: 6\n",
      "The Original List of Numbers is: [1, 2, 3, 4, 5, 6]\n",
      "The Even Numbers present in list are: [2, 4, 6]\n"
     ]
    }
   ],
   "source": [
    "filter_even = lambda items: [item for item in items if item % 2 == 0]\n",
    "\n",
    "\n",
    "length = int(input(\"Enter List Length: \"))\n",
    "\n",
    "numbers = []\n",
    "for i in range(length):\n",
    "    number = int(input(f\"Enter number {i+1}: \"))\n",
    "    numbers.append(number)\n",
    "\n",
    "print(\"The Original List of Numbers is:\", numbers)\n",
    "\n",
    "result = filter_even(numbers)\n",
    "print(\"The Even Numbers present in list are:\", result)"
   ]
  },
  {
   "cell_type": "code",
   "execution_count": 4,
   "id": "cec98bbf",
   "metadata": {},
   "outputs": [
    {
     "name": "stdout",
     "output_type": "stream",
     "text": [
      "[32.0, 50.0, 68.0]\n"
     ]
    }
   ],
   "source": [
    "celsius = [0, 10, 20]\n",
    "\n",
    "fahrenheit = list(map(lambda C: C*(9/5)+ 32, celsius))\n",
    "\n",
    "print(fahrenheit)"
   ]
  },
  {
   "cell_type": "code",
   "execution_count": 5,
   "id": "97624537",
   "metadata": {},
   "outputs": [],
   "source": [
    "def countdown(n):\n",
    "    if n <= 0:   \n",
    "        return\n",
    "    print(n)\n",
    "    countdown(n - 1)"
   ]
  },
  {
   "cell_type": "code",
   "execution_count": 6,
   "id": "6f8d300c",
   "metadata": {},
   "outputs": [
    {
     "name": "stdout",
     "output_type": "stream",
     "text": [
      "10\n",
      "9\n",
      "8\n",
      "7\n",
      "6\n",
      "5\n",
      "4\n",
      "3\n",
      "2\n",
      "1\n"
     ]
    }
   ],
   "source": [
    "countdown(10)"
   ]
  }
 ],
 "metadata": {
  "kernelspec": {
   "display_name": "Python 3 (ipykernel)",
   "language": "python",
   "name": "python3"
  },
  "language_info": {
   "codemirror_mode": {
    "name": "ipython",
    "version": 3
   },
   "file_extension": ".py",
   "mimetype": "text/x-python",
   "name": "python",
   "nbconvert_exporter": "python",
   "pygments_lexer": "ipython3",
   "version": "3.11.5"
  }
 },
 "nbformat": 4,
 "nbformat_minor": 5
}
