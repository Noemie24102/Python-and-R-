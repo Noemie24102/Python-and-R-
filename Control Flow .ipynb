{
 "cells": [
  {
   "cell_type": "code",
   "execution_count": 1,
   "id": "a9189e67",
   "metadata": {},
   "outputs": [
    {
     "name": "stdout",
     "output_type": "stream",
     "text": [
      "Enter a number.5\n",
      "Positive\n"
     ]
    }
   ],
   "source": [
    "Number = int(input(\"Enter a number.\"))\n",
    "if Number >= 0:\n",
    "    print('Positive')"
   ]
  },
  {
   "cell_type": "code",
   "execution_count": 4,
   "id": "0c2774bb",
   "metadata": {},
   "outputs": [
    {
     "name": "stdout",
     "output_type": "stream",
     "text": [
      "Enter a number.6\n",
      "Even\n"
     ]
    }
   ],
   "source": [
    "Numb = int(input(\"Enter a number.\"))\n",
    "if Numb % 2 == 0:\n",
    "    print('Even')\n",
    "else:\n",
    "    print('Odd')"
   ]
  },
  {
   "cell_type": "code",
   "execution_count": 11,
   "id": "e53e10a6",
   "metadata": {},
   "outputs": [
    {
     "name": "stdout",
     "output_type": "stream",
     "text": [
      "Enter the  grade.95\n",
      "A\n"
     ]
    }
   ],
   "source": [
    "Grade = int(input('Enter the  grade.'))\n",
    "if Grade < 50:\n",
    "    print('F')\n",
    "elif Grade >= 50 and Grade <= 69:\n",
    "    print('C')\n",
    "elif Grade >= 70 and Grade <= 89:\n",
    "    print('B')\n",
    "else : \n",
    "    print ('A')"
   ]
  },
  {
   "cell_type": "code",
   "execution_count": 12,
   "id": "f13333c4",
   "metadata": {},
   "outputs": [
    {
     "name": "stdout",
     "output_type": "stream",
     "text": [
      "apple\n",
      "banana\n",
      "cherry\n"
     ]
    }
   ],
   "source": [
    "fruits = [\"apple\", \"banana\", \"cherry\"]\n",
    "\n",
    "for fruit in fruits:\n",
    "    print(fruit)"
   ]
  },
  {
   "cell_type": "code",
   "execution_count": 15,
   "id": "10f6c606",
   "metadata": {},
   "outputs": [
    {
     "name": "stdout",
     "output_type": "stream",
     "text": [
      "The sum is: 55\n"
     ]
    }
   ],
   "source": [
    "sum = 0\n",
    "\n",
    "for i in range(1, 11):  \n",
    "    sum += i          \n",
    "\n",
    "print(\"The sum is:\", sum)"
   ]
  },
  {
   "cell_type": "code",
   "execution_count": 16,
   "id": "9307be5c",
   "metadata": {},
   "outputs": [
    {
     "name": "stdout",
     "output_type": "stream",
     "text": [
      "5\n",
      "4\n",
      "3\n",
      "2\n",
      "1\n"
     ]
    }
   ],
   "source": [
    "num = 5\n",
    "\n",
    "while num >= 1:\n",
    "    print(num)\n",
    "    num -= 1   "
   ]
  },
  {
   "cell_type": "code",
   "execution_count": 4,
   "id": "b04999ff",
   "metadata": {},
   "outputs": [
    {
     "name": "stdout",
     "output_type": "stream",
     "text": [
      "Enter something (type 'stop' to quit): Oui\n",
      "Enter something (type 'stop' to quit): 19\n",
      "Enter something (type 'stop' to quit): stop\n"
     ]
    }
   ],
   "source": [
    "Input = \"\"\n",
    "\n",
    "while Input != \"stop\": \n",
    "    Input =  input(\"Enter something (type 'stop' to quit): \")"
   ]
  },
  {
   "cell_type": "code",
   "execution_count": 7,
   "id": "abef0894",
   "metadata": {},
   "outputs": [
    {
     "name": "stdout",
     "output_type": "stream",
     "text": [
      "# # # # \n",
      "# # # # \n",
      "# # # # \n",
      "# # # # \n"
     ]
    }
   ],
   "source": [
    "for i in range(4):           \n",
    "    for j in range(4):      \n",
    "        print(\"#\", end = \" \")  \n",
    "    print()       "
   ]
  },
  {
   "cell_type": "code",
   "execution_count": 13,
   "id": "1d0fd69f",
   "metadata": {},
   "outputs": [
    {
     "name": "stdout",
     "output_type": "stream",
     "text": [
      "1\n",
      "2\n",
      "3\n",
      "4\n"
     ]
    }
   ],
   "source": [
    "for i in range (1, 11):\n",
    "    if i == 5 :\n",
    "        break \n",
    "    print(i)"
   ]
  },
  {
   "cell_type": "code",
   "execution_count": 14,
   "id": "83ce1123",
   "metadata": {
    "scrolled": true
   },
   "outputs": [
    {
     "name": "stdout",
     "output_type": "stream",
     "text": [
      "1\n",
      "2\n",
      "3\n",
      "4\n",
      "6\n",
      "7\n",
      "8\n",
      "9\n",
      "10\n"
     ]
    }
   ],
   "source": [
    "for i in range(1, 11):  \n",
    "    if i == 5:\n",
    "        continue         \n",
    "    print(i)"
   ]
  }
 ],
 "metadata": {
  "kernelspec": {
   "display_name": "Python 3 (ipykernel)",
   "language": "python",
   "name": "python3"
  },
  "language_info": {
   "codemirror_mode": {
    "name": "ipython",
    "version": 3
   },
   "file_extension": ".py",
   "mimetype": "text/x-python",
   "name": "python",
   "nbconvert_exporter": "python",
   "pygments_lexer": "ipython3",
   "version": "3.11.5"
  }
 },
 "nbformat": 4,
 "nbformat_minor": 5
}
